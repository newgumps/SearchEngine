{
 "cells": [
  {
   "cell_type": "code",
   "execution_count": 86,
   "metadata": {},
   "outputs": [],
   "source": [
    "import json\n",
    "import boto3\n",
    "\n",
    "# Sample SCHEMA\n",
    "#Partioned KEY (UUID) SORT KEY (Created Date) SORT KEY (UPDATED Date) LSI(Catergories) LSI(SKU) Attribute(Tags) Attribute(Description)\n",
    "client = boto3.resource('dynamodb')\n",
    "\n",
    "image_index = client.Table('GumpsImages')"
   ]
  },
  {
   "cell_type": "code",
   "execution_count": 52,
   "metadata": {},
   "outputs": [],
   "source": [
    "# Sample SCHEMA\n",
    "#Partioned KEY (UUID) SORT KEY (Created Date) SORT KEY (UPDATED Date) LSI(Catergories) LSI(SKU) Attribute(Tags) Attribute(Description)\n",
    "client = boto3.resource('dynamodb')\n"
   ]
  },
  {
   "cell_type": "code",
   "execution_count": 53,
   "metadata": {},
   "outputs": [],
   "source": [
    "image_index = client.Table('GumpsImagesIndex')"
   ]
  },
  {
   "cell_type": "code",
   "execution_count": 55,
   "metadata": {},
   "outputs": [],
   "source": [
    "import pandas as pd\n",
    "\n",
    "sample = pd.read_csv('ExportItemPublitasResults645.csv')"
   ]
  },
  {
   "cell_type": "code",
   "execution_count": 87,
   "metadata": {},
   "outputs": [
    {
     "data": {
      "text/html": [
       "<div>\n",
       "<style scoped>\n",
       "    .dataframe tbody tr th:only-of-type {\n",
       "        vertical-align: middle;\n",
       "    }\n",
       "\n",
       "    .dataframe tbody tr th {\n",
       "        vertical-align: top;\n",
       "    }\n",
       "\n",
       "    .dataframe thead th {\n",
       "        text-align: right;\n",
       "    }\n",
       "</style>\n",
       "<table border=\"1\" class=\"dataframe\">\n",
       "  <thead>\n",
       "    <tr style=\"text-align: right;\">\n",
       "      <th></th>\n",
       "      <th>Internal ID</th>\n",
       "      <th>id</th>\n",
       "      <th>title</th>\n",
       "      <th>description</th>\n",
       "      <th>price</th>\n",
       "      <th>sale_price</th>\n",
       "      <th>link</th>\n",
       "      <th>image_link</th>\n",
       "      <th>Name</th>\n",
       "    </tr>\n",
       "  </thead>\n",
       "  <tbody>\n",
       "    <tr>\n",
       "      <th>446</th>\n",
       "      <td>161</td>\n",
       "      <td>3.027864e+13</td>\n",
       "      <td>Pewter Urchin Cup with Glass</td>\n",
       "      <td>NaN</td>\n",
       "      <td>175.0</td>\n",
       "      <td>89.0</td>\n",
       "      <td>https://gumps.com/products/silver-urchin-cup-w...</td>\n",
       "      <td>https://gumps-netsuites-extendfiles.s3.us-east...</td>\n",
       "      <td>861105</td>\n",
       "    </tr>\n",
       "    <tr>\n",
       "      <th>3420</th>\n",
       "      <td>47939</td>\n",
       "      <td>4.092212e+13</td>\n",
       "      <td>Van Gogh's Souvenir de Mauve 350 pc Puzzle</td>\n",
       "      <td>&lt;p&gt;Bring back traditional family fun with this...</td>\n",
       "      <td>125.0</td>\n",
       "      <td>79.0</td>\n",
       "      <td>https://gumps.com/products/van-goghs-souvenir-...</td>\n",
       "      <td>https://gumps-netsuites-extendfiles.s3.amazona...</td>\n",
       "      <td>890974</td>\n",
       "    </tr>\n",
       "    <tr>\n",
       "      <th>1824</th>\n",
       "      <td>41600</td>\n",
       "      <td>4.025100e+13</td>\n",
       "      <td>12 Days of Christmas Cocktail Napkin Set</td>\n",
       "      <td>&lt;p&gt;It's always best to show up to a holiday pa...</td>\n",
       "      <td>150.0</td>\n",
       "      <td>NaN</td>\n",
       "      <td>https://gumps.com/products/kim-seybert-12-days...</td>\n",
       "      <td>https://gumps-netsuites-extendfiles.s3.us-east...</td>\n",
       "      <td>865807</td>\n",
       "    </tr>\n",
       "    <tr>\n",
       "      <th>341</th>\n",
       "      <td>887</td>\n",
       "      <td>3.026085e+13</td>\n",
       "      <td>Pink Mini Bluetooth Speaker</td>\n",
       "      <td>Part of Muzen's 'On The Road' series, a collec...</td>\n",
       "      <td>135.0</td>\n",
       "      <td>76.0</td>\n",
       "      <td>https://gumps.com/products/pink-mini-bluetooth...</td>\n",
       "      <td>https://gumps-netsuites-extendfiles.s3.us-east...</td>\n",
       "      <td>860630</td>\n",
       "    </tr>\n",
       "    <tr>\n",
       "      <th>1339</th>\n",
       "      <td>13004</td>\n",
       "      <td>3.207051e+13</td>\n",
       "      <td>Mini San Francisco Set Ornament</td>\n",
       "      <td>&lt;p&gt;Ask anyone and they’d say: nobody does orna...</td>\n",
       "      <td>50.0</td>\n",
       "      <td>NaN</td>\n",
       "      <td>https://gumps.com/products/mini-san-francisco-...</td>\n",
       "      <td>https://gumps-netsuites-extendfiles.s3.us-east...</td>\n",
       "      <td>864354</td>\n",
       "    </tr>\n",
       "  </tbody>\n",
       "</table>\n",
       "</div>"
      ],
      "text/plain": [
       "      Internal ID            id                                       title  \\\n",
       "446           161  3.027864e+13                Pewter Urchin Cup with Glass   \n",
       "3420        47939  4.092212e+13  Van Gogh's Souvenir de Mauve 350 pc Puzzle   \n",
       "1824        41600  4.025100e+13    12 Days of Christmas Cocktail Napkin Set   \n",
       "341           887  3.026085e+13                 Pink Mini Bluetooth Speaker   \n",
       "1339        13004  3.207051e+13             Mini San Francisco Set Ornament   \n",
       "\n",
       "                                            description  price  sale_price  \\\n",
       "446                                                 NaN  175.0        89.0   \n",
       "3420  <p>Bring back traditional family fun with this...  125.0        79.0   \n",
       "1824  <p>It's always best to show up to a holiday pa...  150.0         NaN   \n",
       "341   Part of Muzen's 'On The Road' series, a collec...  135.0        76.0   \n",
       "1339  <p>Ask anyone and they’d say: nobody does orna...   50.0         NaN   \n",
       "\n",
       "                                                   link  \\\n",
       "446   https://gumps.com/products/silver-urchin-cup-w...   \n",
       "3420  https://gumps.com/products/van-goghs-souvenir-...   \n",
       "1824  https://gumps.com/products/kim-seybert-12-days...   \n",
       "341   https://gumps.com/products/pink-mini-bluetooth...   \n",
       "1339  https://gumps.com/products/mini-san-francisco-...   \n",
       "\n",
       "                                             image_link    Name  \n",
       "446   https://gumps-netsuites-extendfiles.s3.us-east...  861105  \n",
       "3420  https://gumps-netsuites-extendfiles.s3.amazona...  890974  \n",
       "1824  https://gumps-netsuites-extendfiles.s3.us-east...  865807  \n",
       "341   https://gumps-netsuites-extendfiles.s3.us-east...  860630  \n",
       "1339  https://gumps-netsuites-extendfiles.s3.us-east...  864354  "
      ]
     },
     "execution_count": 87,
     "metadata": {},
     "output_type": "execute_result"
    }
   ],
   "source": [
    "test_case = sample.sample(100).copy()\n",
    "test_case.head()"
   ]
  },
  {
   "cell_type": "code",
   "execution_count": 90,
   "metadata": {},
   "outputs": [],
   "source": [
    "test_case.dtypes\n",
    "for col in test_case.columns:\n",
    "    test_case[col] = test_case[col].apply(lambda x: '{:.4f}'.format(x) if type(x) is int or type(x) is float else x)"
   ]
  },
  {
   "cell_type": "code",
   "execution_count": 92,
   "metadata": {},
   "outputs": [],
   "source": [
    "for index, rows in test_case.iterrows():\n",
    "       image_index.put_item(Item= {'unique_index': rows['Internal ID'],\n",
    "                                   'id': rows.id, 'title': rows.title,\n",
    "                                   'price': rows.price, 'sale_price': rows.sale_price,\n",
    "                                   'link': rows.link, 'image_link': rows.image_link,\n",
    "                                   'name':rows.Name, 'description': rows.description\n",
    "       })\n",
    "       "
   ]
  },
  {
   "cell_type": "code",
   "execution_count": 96,
   "metadata": {},
   "outputs": [
    {
     "data": {
      "text/html": [
       "<div>\n",
       "<style scoped>\n",
       "    .dataframe tbody tr th:only-of-type {\n",
       "        vertical-align: middle;\n",
       "    }\n",
       "\n",
       "    .dataframe tbody tr th {\n",
       "        vertical-align: top;\n",
       "    }\n",
       "\n",
       "    .dataframe thead th {\n",
       "        text-align: right;\n",
       "    }\n",
       "</style>\n",
       "<table border=\"1\" class=\"dataframe\">\n",
       "  <thead>\n",
       "    <tr style=\"text-align: right;\">\n",
       "      <th></th>\n",
       "      <th>Internal ID</th>\n",
       "      <th>id</th>\n",
       "      <th>title</th>\n",
       "      <th>description</th>\n",
       "      <th>price</th>\n",
       "      <th>sale_price</th>\n",
       "      <th>link</th>\n",
       "      <th>image_link</th>\n",
       "      <th>Name</th>\n",
       "    </tr>\n",
       "  </thead>\n",
       "  <tbody>\n",
       "    <tr>\n",
       "      <th>788</th>\n",
       "      <td>15185.0000</td>\n",
       "      <td>32447569690709.0000</td>\n",
       "      <td>Tiny Crescent Moonface Stud Earrings</td>\n",
       "      <td>&lt;p&gt;Part of the Celestial collection — jewelry ...</td>\n",
       "      <td>620.0000</td>\n",
       "      <td>nan</td>\n",
       "      <td>https://gumps.com/products/tiny-crescent-moonf...</td>\n",
       "      <td>https://gumps-netsuites-extendfiles.s3.us-east...</td>\n",
       "      <td>862436</td>\n",
       "    </tr>\n",
       "  </tbody>\n",
       "</table>\n",
       "</div>"
      ],
      "text/plain": [
       "    Internal ID                   id                                 title  \\\n",
       "788  15185.0000  32447569690709.0000  Tiny Crescent Moonface Stud Earrings   \n",
       "\n",
       "                                           description     price sale_price  \\\n",
       "788  <p>Part of the Celestial collection — jewelry ...  620.0000        nan   \n",
       "\n",
       "                                                  link  \\\n",
       "788  https://gumps.com/products/tiny-crescent-moonf...   \n",
       "\n",
       "                                            image_link    Name  \n",
       "788  https://gumps-netsuites-extendfiles.s3.us-east...  862436  "
      ]
     },
     "execution_count": 96,
     "metadata": {},
     "output_type": "execute_result"
    }
   ],
   "source": [
    "test_case.sample()"
   ]
  },
  {
   "cell_type": "code",
   "execution_count": 28,
   "metadata": {},
   "outputs": [
    {
     "data": {
      "text/plain": [
       "{'ResponseMetadata': {'RequestId': 'I2V09F3TGJ4LFD17IEQ8PS8A5FVV4KQNSO5AEMVJF66Q9ASUAAJG',\n",
       "  'HTTPStatusCode': 200,\n",
       "  'HTTPHeaders': {'server': 'Server',\n",
       "   'date': 'Mon, 11 Jul 2022 16:10:13 GMT',\n",
       "   'content-type': 'application/x-amz-json-1.0',\n",
       "   'content-length': '2',\n",
       "   'connection': 'keep-alive',\n",
       "   'x-amzn-requestid': 'I2V09F3TGJ4LFD17IEQ8PS8A5FVV4KQNSO5AEMVJF66Q9ASUAAJG',\n",
       "   'x-amz-crc32': '2745614147'},\n",
       "  'RetryAttempts': 0}}"
      ]
     },
     "execution_count": 28,
     "metadata": {},
     "output_type": "execute_result"
    }
   ],
   "source": [
    "image_index.put_item(Item= {'unique_index': 1,'sample':  'microsoft', 'test_attri':33})"
   ]
  },
  {
   "cell_type": "code",
   "execution_count": 85,
   "metadata": {},
   "outputs": [
    {
     "data": {
      "text/plain": [
       "dynamodb.Table(name='GumpsImagesIndex')"
      ]
     },
     "execution_count": 85,
     "metadata": {},
     "output_type": "execute_result"
    }
   ],
   "source": [
    "image_index"
   ]
  },
  {
   "cell_type": "code",
   "execution_count": 23,
   "metadata": {},
   "outputs": [
    {
     "data": {
      "text/plain": [
       "{'ResponseMetadata': {'RequestId': '5L7EKATF91FE2QJPGBLI4FFGR7VV4KQNSO5AEMVJF66Q9ASUAAJG',\n",
       "  'HTTPStatusCode': 200,\n",
       "  'HTTPHeaders': {'server': 'Server',\n",
       "   'date': 'Mon, 11 Jul 2022 16:03:55 GMT',\n",
       "   'content-type': 'application/x-amz-json-1.0',\n",
       "   'content-length': '2',\n",
       "   'connection': 'keep-alive',\n",
       "   'x-amzn-requestid': '5L7EKATF91FE2QJPGBLI4FFGR7VV4KQNSO5AEMVJF66Q9ASUAAJG',\n",
       "   'x-amz-crc32': '2745614147'},\n",
       "  'RetryAttempts': 0}}"
      ]
     },
     "execution_count": 23,
     "metadata": {},
     "output_type": "execute_result"
    }
   ],
   "source": [
    "image_index.put_item(Item= {'unique_index': 3,'sample3':  'google', 'test':3})"
   ]
  },
  {
   "cell_type": "code",
   "execution_count": 24,
   "metadata": {},
   "outputs": [
    {
     "name": "stdout",
     "output_type": "stream",
     "text": [
      "{'unique_index': Decimal('1'), 'sample': 'microsoft'}\n"
     ]
    }
   ],
   "source": [
    "resp = image_index.get_item(\n",
    "            Key={\n",
    "                'unique_index' : 1,\n",
    "            }\n",
    "        )\n",
    "                \n",
    "if 'Item' in resp:\n",
    "    print(resp['Item'])\n"
   ]
  },
  {
   "cell_type": "code",
   "execution_count": 25,
   "metadata": {},
   "outputs": [
    {
     "name": "stdout",
     "output_type": "stream",
     "text": [
      "{'sample3': 'google', 'unique_index': Decimal('3'), 'test': Decimal('3')}\n"
     ]
    }
   ],
   "source": [
    "resp = image_index.get_item(\n",
    "            Key={\n",
    "                'unique_index' : 3,\n",
    "            }\n",
    "        )\n",
    "                \n",
    "if 'Item' in resp:\n",
    "    print(resp['Item'])\n"
   ]
  },
  {
   "cell_type": "code",
   "execution_count": 17,
   "metadata": {},
   "outputs": [],
   "source": [
    "resp = image_index.delete_item(\n",
    "            Key={\n",
    "                'unique_index' : 1,\n",
    "            }\n",
    "        )\n",
    "                \n",
    "if 'Item' in resp:\n",
    "    print(resp['Item'])\n"
   ]
  },
  {
   "cell_type": "code",
   "execution_count": 55,
   "metadata": {},
   "outputs": [],
   "source": [
    "event = {'Key': 'upload/test222_test22_test.jpg'}\n",
    "import json\n",
    "from re import I\n",
    "from sre_constants import SUCCESS\n",
    "from PIL import Image\n",
    "import io\n",
    "import boto3\n",
    "\n",
    "import os"
   ]
  },
  {
   "cell_type": "code",
   "execution_count": 57,
   "metadata": {},
   "outputs": [
    {
     "ename": "NoSuchKey",
     "evalue": "An error occurred (NoSuchKey) when calling the GetObject operation: The specified key does not exist.",
     "output_type": "error",
     "traceback": [
      "\u001b[0;31m---------------------------------------------------------------------------\u001b[0m",
      "\u001b[0;31mNoSuchKey\u001b[0m                                 Traceback (most recent call last)",
      "\u001b[1;32m/Users/sasanakongjareon/Work/Gumps/Current_Dev/gid20/upload_db/gumps_git/ImageProcessor/Gumps Image Processing/DynamoIndexFunction/dynamo_db_test.ipynb Cell 10'\u001b[0m in \u001b[0;36m<cell line: 6>\u001b[0;34m()\u001b[0m\n\u001b[1;32m      <a href='vscode-notebook-cell:/Users/sasanakongjareon/Work/Gumps/Current_Dev/gid20/upload_db/gumps_git/ImageProcessor/Gumps%20Image%20Processing/DynamoIndexFunction/dynamo_db_test.ipynb#ch0000006?line=3'>4</a>\u001b[0m \u001b[39m# download s3 object\u001b[39;00m\n\u001b[1;32m      <a href='vscode-notebook-cell:/Users/sasanakongjareon/Work/Gumps/Current_Dev/gid20/upload_db/gumps_git/ImageProcessor/Gumps%20Image%20Processing/DynamoIndexFunction/dynamo_db_test.ipynb#ch0000006?line=4'>5</a>\u001b[0m s3_client \u001b[39m=\u001b[39m boto3\u001b[39m.\u001b[39mclient(\u001b[39m'\u001b[39m\u001b[39ms3\u001b[39m\u001b[39m'\u001b[39m)\n\u001b[0;32m----> <a href='vscode-notebook-cell:/Users/sasanakongjareon/Work/Gumps/Current_Dev/gid20/upload_db/gumps_git/ImageProcessor/Gumps%20Image%20Processing/DynamoIndexFunction/dynamo_db_test.ipynb#ch0000006?line=5'>6</a>\u001b[0m s3_response_object \u001b[39m=\u001b[39m s3_client\u001b[39m.\u001b[39;49mget_object(Bucket\u001b[39m=\u001b[39;49m\u001b[39m'\u001b[39;49m\u001b[39mgumpsimageorc-rawimageupload-y9xo4xnyrwyt\u001b[39;49m\u001b[39m'\u001b[39;49m, Key\u001b[39m=\u001b[39;49mevent[\u001b[39m'\u001b[39;49m\u001b[39mKey\u001b[39;49m\u001b[39m'\u001b[39;49m])\n\u001b[1;32m      <a href='vscode-notebook-cell:/Users/sasanakongjareon/Work/Gumps/Current_Dev/gid20/upload_db/gumps_git/ImageProcessor/Gumps%20Image%20Processing/DynamoIndexFunction/dynamo_db_test.ipynb#ch0000006?line=6'>7</a>\u001b[0m object_content \u001b[39m=\u001b[39m s3_response_object[\u001b[39m'\u001b[39m\u001b[39mBody\u001b[39m\u001b[39m'\u001b[39m]\n\u001b[1;32m      <a href='vscode-notebook-cell:/Users/sasanakongjareon/Work/Gumps/Current_Dev/gid20/upload_db/gumps_git/ImageProcessor/Gumps%20Image%20Processing/DynamoIndexFunction/dynamo_db_test.ipynb#ch0000006?line=7'>8</a>\u001b[0m im \u001b[39m=\u001b[39m Image\u001b[39m.\u001b[39mopen(object_content)\n",
      "File \u001b[0;32m~/opt/anaconda3/envs/gumps/lib/python3.9/site-packages/botocore/client.py:415\u001b[0m, in \u001b[0;36mClientCreator._create_api_method.<locals>._api_call\u001b[0;34m(self, *args, **kwargs)\u001b[0m\n\u001b[1;32m    <a href='file:///Users/sasanakongjareon/opt/anaconda3/envs/gumps/lib/python3.9/site-packages/botocore/client.py?line=411'>412</a>\u001b[0m     \u001b[39mraise\u001b[39;00m \u001b[39mTypeError\u001b[39;00m(\n\u001b[1;32m    <a href='file:///Users/sasanakongjareon/opt/anaconda3/envs/gumps/lib/python3.9/site-packages/botocore/client.py?line=412'>413</a>\u001b[0m         \u001b[39m\"\u001b[39m\u001b[39m%s\u001b[39;00m\u001b[39m() only accepts keyword arguments.\u001b[39m\u001b[39m\"\u001b[39m \u001b[39m%\u001b[39m py_operation_name)\n\u001b[1;32m    <a href='file:///Users/sasanakongjareon/opt/anaconda3/envs/gumps/lib/python3.9/site-packages/botocore/client.py?line=413'>414</a>\u001b[0m \u001b[39m# The \"self\" in this scope is referring to the BaseClient.\u001b[39;00m\n\u001b[0;32m--> <a href='file:///Users/sasanakongjareon/opt/anaconda3/envs/gumps/lib/python3.9/site-packages/botocore/client.py?line=414'>415</a>\u001b[0m \u001b[39mreturn\u001b[39;00m \u001b[39mself\u001b[39;49m\u001b[39m.\u001b[39;49m_make_api_call(operation_name, kwargs)\n",
      "File \u001b[0;32m~/opt/anaconda3/envs/gumps/lib/python3.9/site-packages/botocore/client.py:745\u001b[0m, in \u001b[0;36mBaseClient._make_api_call\u001b[0;34m(self, operation_name, api_params)\u001b[0m\n\u001b[1;32m    <a href='file:///Users/sasanakongjareon/opt/anaconda3/envs/gumps/lib/python3.9/site-packages/botocore/client.py?line=742'>743</a>\u001b[0m     error_code \u001b[39m=\u001b[39m parsed_response\u001b[39m.\u001b[39mget(\u001b[39m\"\u001b[39m\u001b[39mError\u001b[39m\u001b[39m\"\u001b[39m, {})\u001b[39m.\u001b[39mget(\u001b[39m\"\u001b[39m\u001b[39mCode\u001b[39m\u001b[39m\"\u001b[39m)\n\u001b[1;32m    <a href='file:///Users/sasanakongjareon/opt/anaconda3/envs/gumps/lib/python3.9/site-packages/botocore/client.py?line=743'>744</a>\u001b[0m     error_class \u001b[39m=\u001b[39m \u001b[39mself\u001b[39m\u001b[39m.\u001b[39mexceptions\u001b[39m.\u001b[39mfrom_code(error_code)\n\u001b[0;32m--> <a href='file:///Users/sasanakongjareon/opt/anaconda3/envs/gumps/lib/python3.9/site-packages/botocore/client.py?line=744'>745</a>\u001b[0m     \u001b[39mraise\u001b[39;00m error_class(parsed_response, operation_name)\n\u001b[1;32m    <a href='file:///Users/sasanakongjareon/opt/anaconda3/envs/gumps/lib/python3.9/site-packages/botocore/client.py?line=745'>746</a>\u001b[0m \u001b[39melse\u001b[39;00m:\n\u001b[1;32m    <a href='file:///Users/sasanakongjareon/opt/anaconda3/envs/gumps/lib/python3.9/site-packages/botocore/client.py?line=746'>747</a>\u001b[0m     \u001b[39mreturn\u001b[39;00m parsed_response\n",
      "\u001b[0;31mNoSuchKey\u001b[0m: An error occurred (NoSuchKey) when calling the GetObject operation: The specified key does not exist."
     ]
    }
   ],
   "source": [
    "sns = boto3.client('sns')\n",
    "s3 = boto3.resource('s3')\n",
    "image_size_img = 100\n",
    "# download s3 object\n",
    "s3_client = boto3.client('s3')\n",
    "s3_response_object = s3_client.get_object(Bucket='gumpsimageorc-rawimageupload-y9xo4xnyrwyt', Key=event['Key'])\n",
    "object_content = s3_response_object['Body']\n",
    "im = Image.open(object_content)\n",
    "\n"
   ]
  },
  {
   "cell_type": "code",
   "execution_count": 6,
   "metadata": {},
   "outputs": [
    {
     "data": {
      "text/plain": [
       "<botocore.response.StreamingBody at 0x7f8e80e73610>"
      ]
     },
     "execution_count": 6,
     "metadata": {},
     "output_type": "execute_result"
    }
   ],
   "source": [
    "object_content"
   ]
  },
  {
   "cell_type": "code",
   "execution_count": 8,
   "metadata": {},
   "outputs": [],
   "source": [
    "im.thumbnail((1000, 1000))\n",
    "temp = io.BytesIO()\n",
    "im.save(temp, format=\"jpeg\")\n",
    "temp.seek(0)\n",
    "# save in memory file to S3\n",
    "client = boto3.client('s3')\n",
    "response = client.put_object(\n",
    "    Body=temp,\n",
    "    Bucket='gumpsimageorc-processedrawfilesstorage-id4jk8avr5dq',\n",
    "    Key= \"processed/\"+'test.jpg'\n",
    "    )"
   ]
  },
  {
   "cell_type": "code",
   "execution_count": 32,
   "metadata": {},
   "outputs": [],
   "source": [
    "resized_im"
   ]
  },
  {
   "cell_type": "code",
   "execution_count": 58,
   "metadata": {},
   "outputs": [],
   "source": [
    "import json\n",
    "from re import I\n",
    "from sre_constants import SUCCESS\n",
    "from PIL import Image\n",
    "import io\n",
    "import boto3\n",
    "\n",
    "import os\n",
    "def lambda_handler(event, context):\n",
    "    \"\"\"Sample pure Lambda function\n",
    "\n",
    "    Parameters\n",
    "    ----------\n",
    "    event: dict, required\n",
    "        API Gateway Lambda Proxy Input Format\n",
    "\n",
    "        Event doc: https://docs.aws.amazon.com/apigateway/latest/developerguide/set-up-lambda-proxy-integrations.html#api-gateway-simple-proxy-for-lambda-input-format\n",
    "\n",
    "    context: object, required\n",
    "        Lambda Context runtime methods and attributes\n",
    "\n",
    "        Context doc: https://docs.aws.amazon.com/lambda/latest/dg/python-context-object.html\n",
    "\n",
    "    Returns\n",
    "    ------\n",
    "    API Gateway Lambda Proxy Output Format: dict\n",
    "\n",
    "        Return doc: https://docs.aws.amazon.com/apigateway/latest/developerguide/set-up-lambda-proxy-integrations.html\n",
    "    \"\"\"\n",
    "    print(event)\n",
    "    # Get Keys from event\n",
    "    image_key = event['Key']\n",
    "    bucket = os.environ.get('InputBucket')\n",
    "    output_bucket = os.environ.get('OutputBucket')\n",
    "    storage_bucket = os.environ.get('StorageBucket')\n",
    "    ERROR_SNS_ARN = os.environ.get('ERROR_SNS')\n",
    "    SUCCESS_SNS = os.environ.get('SUCCESS_SNS')\n",
    "\n",
    "\n",
    "    # pull s3 object from Buckets\n",
    "    sns = boto3.client('sns')\n",
    "    s3 = boto3.resource('s3')\n",
    "    image_size_img = int(os.environ.get('SIZE_LIMIT'))\n",
    "    # download s3 object\n",
    "    s3_client = boto3.client('s3')\n",
    "    s3_response_object = s3_client.get_object(Bucket=bucket, Key=image_key)\n",
    "    object_content = s3_response_object['Body']\n",
    "    im = Image.open(object_content)\n",
    "    # Check if image width and height is even.\n",
    "    width, height = im.size\n",
    "    # Check if image resolutions. Is greater than 2k x 2k px.\n",
    "\n",
    "    try:\n",
    "        assert(width >= image_size_img)\n",
    "    except AssertionError:\n",
    "        client = boto3.client('s3')\n",
    "        response = client.put_object(\n",
    "            Body=object_content.read(),\n",
    "            Bucket=bucket,\n",
    "            Key= \"need_review/\"+image_key.lstrip('upload/')\n",
    "        )\n",
    "        s3.Object(bucket,image_key).delete()\n",
    "        sns.publish(\n",
    "            TargetArn = ERROR_SNS_ARN,\n",
    "            Subject = 'File Needs Manual Review',\n",
    "            Message = f\"\"\"\n",
    "File: {image_key}\n",
    "\n",
    "Failed the following: Image must be 2000 by 2000 or greater.\n",
    "\n",
    "Please Review and re-upload fixed filed back to {\"TODO:\"}\n",
    "            \"\"\")\n",
    "        return {\"Status\":\"unprocessed file size error.\"}\n",
    "    try: \n",
    "        assert(width == height)\n",
    "    except AssertionError:\n",
    "        client = boto3.client('s3')\n",
    "        response = client.put_object(\n",
    "            Body=object_content.read(),\n",
    "            Bucket=bucket,\n",
    "            Key= \"need_review/\"+image_key.lstrip('upload/')\n",
    "        )\n",
    "        s3.Object(bucket,image_key).delete()\n",
    "    # If Pass Checks. Resize to 1000x1000\n",
    "    # Save Image in S3 Buckets.\n",
    "\n",
    "\n",
    "    # Check if image is square.\n",
    "     \n",
    "        sns.publish(\n",
    "            TargetArn = ERROR_SNS_ARN,\n",
    "            Subject = 'File Need Manual review',\n",
    "            Message = f\"\"\"\n",
    "File: {\"need_review/\"+image_key.lstrip('upload/')}\n",
    "\n",
    "Failed the following: File do not have even width and height.\n",
    "\n",
    "Please Review and re-upload.\n",
    "            \"\"\")\n",
    "        return {\"Status\":\"unprocessed file size error.\"}\n",
    "# Resize Image\n",
    "    \n",
    "    im.thumbnail((1000, 1000))\n",
    "    temp = io.BytesIO()\n",
    "    format_type = image_key.rsplit('.')[1]\n",
    "    if format_type.lower() == 'jpg':\n",
    "        format_type = 'jpeg'\n",
    "    im.save(temp, format=format_type)\n",
    "    \n",
    "    temp.seek(0)\n",
    "\n",
    "\n",
    "    # save in memory file to S3\n",
    "    client = boto3.client('s3')\n",
    "    response = client.put_object(\n",
    "        Body=temp,\n",
    "        Bucket=output_bucket,\n",
    "        Key= \"processed/\"+image_key.lstrip('upload/')\n",
    "    )\n",
    "    s3.Object(bucket,image_key).delete()\n",
    "# Successful SNS & Remove from S3\n",
    "    sns.publish(\n",
    "                TargetArn = SUCCESS_SNS,\n",
    "                Subject = 'Upload File',\n",
    "                Message = f\"\"\"\n",
    "    File: {image_key}\n",
    "\n",
    "    Filed the following: File do not have even width and height.\n",
    "\n",
    "    Please Review and re-upload fixed filed back to: upload/<file>\n",
    "                \"\"\")\n",
    "\n",
    "    # Copy\n",
    "    s3 = boto3.resource('s3')\n",
    "    dest = s3.Bucket(storage_bucket)\n",
    "    copy_source = {\n",
    "    'Bucket': bucket,\n",
    "    'Key': image_key\n",
    "    }\n",
    "    dest.copy(copy_source, image_key)\n",
    "    # Delete\n",
    "    s3.Object(bucket,image_key).delete()\n",
    "\n",
    "    return {\n",
    "        \"statusCode\": 200,\n",
    "        \"body\": json.dumps(\n",
    "            {\n",
    "                \"Image Key Uploaded\": image_key,\n",
    "            }\n",
    "        ),\n",
    "    }\n"
   ]
  },
  {
   "cell_type": "code",
   "execution_count": 39,
   "metadata": {},
   "outputs": [],
   "source": [
    "event = {'Records': [{'messageId': '76254d6e-2b13-49c5-bcbb-6d98d60e4ffb', 'receiptHandle': 'AQEBPf3cLd70CvWIIV3Tmagthxtw1meuJ3wBUgOXyKZy6Yfmhzi6Np9nJyxQYfWdalGnpZ4RpfBEO7yauZq62MHBKSBgO1ptwgI4m+Z4DoNunAj0q9VOSfXovi9mbCWWaZ2/XNkHyyanmnHTmsleHc9biMEXaNh2pDS2UwQQ6N3sJ5eRN9G2EqewrW/HBXg62SqUffBpBnDdMg4cIDfS0s860ujHK9qVf3/ulP12asFhTV5IKA0L3Z1rPdGlxW3y20zzW+nbYhcumwcAmgyyNJBJK5StpiVgPQM+i/JihW7VCPyjDDfU5DR9iCJCILA9WIddQX0+qitdWg9aX9m1SnkZjA6mkssB72cFuT4irqwm5rS/r5lCAZ3MtdrOQgmBQy1P3hFkrg4nyqeEe6WtnhXqyt66HQCtMQHbODR99x1BeTo6PwH6jhAHL9dtYpIRcEi/', 'body': '{\\n  \"Type\" : \"Notification\",\\n  \"MessageId\" : \"720563c5-eac2-5e01-ae19-38837eff8169\",\\n  \"TopicArn\" : \"arn:aws:sns:us-east-1:570685116845:GumpsImageOrc-DynamoIndexSNS-JVR0PXBY6ZFN\",\\n  \"Subject\" : \"Amazon S3 Notification\",\\n  \"Message\" : \"{\\\\\"Records\\\\\":[{\\\\\"eventVersion\\\\\":\\\\\"2.1\\\\\",\\\\\"eventSource\\\\\":\\\\\"aws:s3\\\\\",\\\\\"awsRegion\\\\\":\\\\\"us-east-1\\\\\",\\\\\"eventTime\\\\\":\\\\\"2022-07-11T21:11:24.000Z\\\\\",\\\\\"eventName\\\\\":\\\\\"ObjectCreated:Put\\\\\",\\\\\"userIdentity\\\\\":{\\\\\"principalId\\\\\":\\\\\"AWS:AROAYJX332GW2XSVUDCAI:GumpsImageOrc-ImageValidationFunction-j7Kxoyz4hj5m\\\\\"},\\\\\"requestParameters\\\\\":{\\\\\"sourceIPAddress\\\\\":\\\\\"3.239.216.74\\\\\"},\\\\\"responseElements\\\\\":{\\\\\"x-amz-request-id\\\\\":\\\\\"CT6JCPJ0162HP7X7\\\\\",\\\\\"x-amz-id-2\\\\\":\\\\\"EDNBObtBnHYxZEcxUkYymQkJnI215bHMQEr1yL7SW/xMfAxto5H8b3dxcMxKoYTkjzSZRvLWMqP7uq1uFlQK/T/Fy8hHMCIM\\\\\"},\\\\\"s3\\\\\":{\\\\\"s3SchemaVersion\\\\\":\\\\\"1.0\\\\\",\\\\\"configurationId\\\\\":\\\\\"40aff85d-0324-43d8-ae33-9bed8565607e\\\\\",\\\\\"bucket\\\\\":{\\\\\"name\\\\\":\\\\\"gumpsimageorc-resizeimagefornss3-ni7yfejlpxbv\\\\\",\\\\\"ownerIdentity\\\\\":{\\\\\"principalId\\\\\":\\\\\"A373VBM0IBDHV\\\\\"},\\\\\"arn\\\\\":\\\\\"arn:aws:s3:::gumpsimageorc-resizeimagefornss3-ni7yfejlpxbv\\\\\"},\\\\\"object\\\\\":{\\\\\"key\\\\\":\\\\\"processed/monk3_animal_chimp.jpg\\\\\",\\\\\"size\\\\\":61763,\\\\\"eTag\\\\\":\\\\\"389d7c4adab465ae650605e9ce0ebd04\\\\\",\\\\\"sequencer\\\\\":\\\\\"0062CC91FBE65C0E2E\\\\\"}}}]}\",\\n  \"Timestamp\" : \"2022-07-11T21:11:25.353Z\",\\n  \"SignatureVersion\" : \"1\",\\n  \"Signature\" : \"rnLwDDPPPMsPTZHhc6uArOWc3xRZYEdNthOTxU31FMDJjj8jniUI26GXd0IHgBLWFfrtAzxfKp9oVhb7O18JjjNOyk7k9LHIMLXAa0dx24+WLnio/i7bF0bpAHU9IQa5pIfD1GglVqn0krnzHRU3tIrjX/IpnkmFDPsgO/1/KEBrZ+WydUP482bAWpoSez27J7/+bQurC6aLsdJybi3fDYGs+FXeAQcaDU6is+nQtqhnDPAvViO6PZAOhR8Kw9bzPhFO+mBfRDAl5qppwslXlevv4i1x61qP59BNaaZsuDOTu57bhOSG2ojcokq0UC7UjZXJwrFbK/gB7YI8y6J+LA==\",\\n  \"SigningCertURL\" : \"https://sns.us-east-1.amazonaws.com/SimpleNotificationService-7ff5318490ec183fbaddaa2a969abfda.pem\",\\n  \"UnsubscribeURL\" : \"https://sns.us-east-1.amazonaws.com/?Action=Unsubscribe&SubscriptionArn=arn:aws:sns:us-east-1:570685116845:GumpsImageOrc-DynamoIndexSNS-JVR0PXBY6ZFN:d6c2e4b5-984d-441b-bd67-0e0961261f6d\"\\n}', 'attributes': {'ApproximateReceiveCount': '2742', 'SentTimestamp': '1657573885397', 'SenderId': 'AIDAIT2UOQQY3AUEKVGXU', 'ApproximateFirstReceiveTimestamp': '1657573885397'}, 'messageAttributes': {}, 'md5OfBody': '9cbabd227de213b679b21314182ff77b', 'eventSource': 'aws:sqs', 'eventSourceARN': 'arn:aws:sqs:us-east-1:570685116845:GumpsImageOrc-DynamoIndexSQS-Ddj8XH5wNu1s', 'awsRegion': 'us-east-1'}]}\n"
   ]
  },
  {
   "cell_type": "code",
   "execution_count": 40,
   "metadata": {},
   "outputs": [
    {
     "ename": "ResourceNotFoundException",
     "evalue": "An error occurred (ResourceNotFoundException) when calling the PutItem operation: Requested resource not found",
     "output_type": "error",
     "traceback": [
      "\u001b[0;31m---------------------------------------------------------------------------\u001b[0m",
      "\u001b[0;31mResourceNotFoundException\u001b[0m                 Traceback (most recent call last)",
      "\u001b[1;32m/Users/sasanakongjareon/Work/Gumps/Current_Dev/gid20/upload_db/gumps_git/ImageProcessor/Gumps Image Processing/DynamoIndexFunction/dynamo_db_test.ipynb Cell 16'\u001b[0m in \u001b[0;36m<cell line: 19>\u001b[0;34m()\u001b[0m\n\u001b[1;32m     <a href='vscode-notebook-cell:/Users/sasanakongjareon/Work/Gumps/Current_Dev/gid20/upload_db/gumps_git/ImageProcessor/Gumps%20Image%20Processing/DynamoIndexFunction/dynamo_db_test.ipynb#ch0000017?line=14'>15</a>\u001b[0m client \u001b[39m=\u001b[39m boto3\u001b[39m.\u001b[39mresource(\u001b[39m'\u001b[39m\u001b[39mdynamodb\u001b[39m\u001b[39m'\u001b[39m)\n\u001b[1;32m     <a href='vscode-notebook-cell:/Users/sasanakongjareon/Work/Gumps/Current_Dev/gid20/upload_db/gumps_git/ImageProcessor/Gumps%20Image%20Processing/DynamoIndexFunction/dynamo_db_test.ipynb#ch0000017?line=16'>17</a>\u001b[0m image_index \u001b[39m=\u001b[39m client\u001b[39m.\u001b[39mTable(\u001b[39m'\u001b[39m\u001b[39mGumpsImagesIndex\u001b[39m\u001b[39m'\u001b[39m)\n\u001b[0;32m---> <a href='vscode-notebook-cell:/Users/sasanakongjareon/Work/Gumps/Current_Dev/gid20/upload_db/gumps_git/ImageProcessor/Gumps%20Image%20Processing/DynamoIndexFunction/dynamo_db_test.ipynb#ch0000017?line=18'>19</a>\u001b[0m image_index\u001b[39m.\u001b[39;49mput_item(Item\u001b[39m=\u001b[39;49m {\u001b[39m'\u001b[39;49m\u001b[39munique_index\u001b[39;49m\u001b[39m'\u001b[39;49m: \u001b[39m1\u001b[39;49m,\u001b[39m'\u001b[39;49m\u001b[39msku\u001b[39;49m\u001b[39m'\u001b[39;49m:  skus, \u001b[39m'\u001b[39;49m\u001b[39mcatalog\u001b[39;49m\u001b[39m'\u001b[39;49m:catalog, \u001b[39m'\u001b[39;49m\u001b[39moriginal_filename\u001b[39;49m\u001b[39m'\u001b[39;49m:original_filename})\n",
      "File \u001b[0;32m~/opt/anaconda3/envs/gumps/lib/python3.9/site-packages/boto3/resources/factory.py:580\u001b[0m, in \u001b[0;36mResourceFactory._create_action.<locals>.do_action\u001b[0;34m(self, *args, **kwargs)\u001b[0m\n\u001b[1;32m    <a href='file:///Users/sasanakongjareon/opt/anaconda3/envs/gumps/lib/python3.9/site-packages/boto3/resources/factory.py?line=578'>579</a>\u001b[0m \u001b[39mdef\u001b[39;00m \u001b[39mdo_action\u001b[39m(\u001b[39mself\u001b[39m, \u001b[39m*\u001b[39margs, \u001b[39m*\u001b[39m\u001b[39m*\u001b[39mkwargs):\n\u001b[0;32m--> <a href='file:///Users/sasanakongjareon/opt/anaconda3/envs/gumps/lib/python3.9/site-packages/boto3/resources/factory.py?line=579'>580</a>\u001b[0m     response \u001b[39m=\u001b[39m action(\u001b[39mself\u001b[39;49m, \u001b[39m*\u001b[39;49margs, \u001b[39m*\u001b[39;49m\u001b[39m*\u001b[39;49mkwargs)\n\u001b[1;32m    <a href='file:///Users/sasanakongjareon/opt/anaconda3/envs/gumps/lib/python3.9/site-packages/boto3/resources/factory.py?line=581'>582</a>\u001b[0m     \u001b[39mif\u001b[39;00m \u001b[39mhasattr\u001b[39m(\u001b[39mself\u001b[39m, \u001b[39m'\u001b[39m\u001b[39mload\u001b[39m\u001b[39m'\u001b[39m):\n\u001b[1;32m    <a href='file:///Users/sasanakongjareon/opt/anaconda3/envs/gumps/lib/python3.9/site-packages/boto3/resources/factory.py?line=582'>583</a>\u001b[0m         \u001b[39m# Clear cached data. It will be reloaded the next\u001b[39;00m\n\u001b[1;32m    <a href='file:///Users/sasanakongjareon/opt/anaconda3/envs/gumps/lib/python3.9/site-packages/boto3/resources/factory.py?line=583'>584</a>\u001b[0m         \u001b[39m# time that an attribute is accessed.\u001b[39;00m\n\u001b[1;32m    <a href='file:///Users/sasanakongjareon/opt/anaconda3/envs/gumps/lib/python3.9/site-packages/boto3/resources/factory.py?line=584'>585</a>\u001b[0m         \u001b[39m# TODO: Make this configurable in the future?\u001b[39;00m\n\u001b[1;32m    <a href='file:///Users/sasanakongjareon/opt/anaconda3/envs/gumps/lib/python3.9/site-packages/boto3/resources/factory.py?line=585'>586</a>\u001b[0m         \u001b[39mself\u001b[39m\u001b[39m.\u001b[39mmeta\u001b[39m.\u001b[39mdata \u001b[39m=\u001b[39m \u001b[39mNone\u001b[39;00m\n",
      "File \u001b[0;32m~/opt/anaconda3/envs/gumps/lib/python3.9/site-packages/boto3/resources/action.py:88\u001b[0m, in \u001b[0;36mServiceAction.__call__\u001b[0;34m(self, parent, *args, **kwargs)\u001b[0m\n\u001b[1;32m     <a href='file:///Users/sasanakongjareon/opt/anaconda3/envs/gumps/lib/python3.9/site-packages/boto3/resources/action.py?line=78'>79</a>\u001b[0m params\u001b[39m.\u001b[39mupdate(kwargs)\n\u001b[1;32m     <a href='file:///Users/sasanakongjareon/opt/anaconda3/envs/gumps/lib/python3.9/site-packages/boto3/resources/action.py?line=80'>81</a>\u001b[0m logger\u001b[39m.\u001b[39mdebug(\n\u001b[1;32m     <a href='file:///Users/sasanakongjareon/opt/anaconda3/envs/gumps/lib/python3.9/site-packages/boto3/resources/action.py?line=81'>82</a>\u001b[0m     \u001b[39m'\u001b[39m\u001b[39mCalling \u001b[39m\u001b[39m%s\u001b[39;00m\u001b[39m:\u001b[39m\u001b[39m%s\u001b[39;00m\u001b[39m with \u001b[39m\u001b[39m%r\u001b[39;00m\u001b[39m'\u001b[39m,\n\u001b[1;32m     <a href='file:///Users/sasanakongjareon/opt/anaconda3/envs/gumps/lib/python3.9/site-packages/boto3/resources/action.py?line=82'>83</a>\u001b[0m     parent\u001b[39m.\u001b[39mmeta\u001b[39m.\u001b[39mservice_name,\n\u001b[1;32m     <a href='file:///Users/sasanakongjareon/opt/anaconda3/envs/gumps/lib/python3.9/site-packages/boto3/resources/action.py?line=83'>84</a>\u001b[0m     operation_name,\n\u001b[1;32m     <a href='file:///Users/sasanakongjareon/opt/anaconda3/envs/gumps/lib/python3.9/site-packages/boto3/resources/action.py?line=84'>85</a>\u001b[0m     params,\n\u001b[1;32m     <a href='file:///Users/sasanakongjareon/opt/anaconda3/envs/gumps/lib/python3.9/site-packages/boto3/resources/action.py?line=85'>86</a>\u001b[0m )\n\u001b[0;32m---> <a href='file:///Users/sasanakongjareon/opt/anaconda3/envs/gumps/lib/python3.9/site-packages/boto3/resources/action.py?line=87'>88</a>\u001b[0m response \u001b[39m=\u001b[39m \u001b[39mgetattr\u001b[39;49m(parent\u001b[39m.\u001b[39;49mmeta\u001b[39m.\u001b[39;49mclient, operation_name)(\u001b[39m*\u001b[39;49margs, \u001b[39m*\u001b[39;49m\u001b[39m*\u001b[39;49mparams)\n\u001b[1;32m     <a href='file:///Users/sasanakongjareon/opt/anaconda3/envs/gumps/lib/python3.9/site-packages/boto3/resources/action.py?line=89'>90</a>\u001b[0m logger\u001b[39m.\u001b[39mdebug(\u001b[39m'\u001b[39m\u001b[39mResponse: \u001b[39m\u001b[39m%r\u001b[39;00m\u001b[39m'\u001b[39m, response)\n\u001b[1;32m     <a href='file:///Users/sasanakongjareon/opt/anaconda3/envs/gumps/lib/python3.9/site-packages/boto3/resources/action.py?line=91'>92</a>\u001b[0m \u001b[39mreturn\u001b[39;00m \u001b[39mself\u001b[39m\u001b[39m.\u001b[39m_response_handler(parent, params, response)\n",
      "File \u001b[0;32m~/opt/anaconda3/envs/gumps/lib/python3.9/site-packages/botocore/client.py:415\u001b[0m, in \u001b[0;36mClientCreator._create_api_method.<locals>._api_call\u001b[0;34m(self, *args, **kwargs)\u001b[0m\n\u001b[1;32m    <a href='file:///Users/sasanakongjareon/opt/anaconda3/envs/gumps/lib/python3.9/site-packages/botocore/client.py?line=411'>412</a>\u001b[0m     \u001b[39mraise\u001b[39;00m \u001b[39mTypeError\u001b[39;00m(\n\u001b[1;32m    <a href='file:///Users/sasanakongjareon/opt/anaconda3/envs/gumps/lib/python3.9/site-packages/botocore/client.py?line=412'>413</a>\u001b[0m         \u001b[39m\"\u001b[39m\u001b[39m%s\u001b[39;00m\u001b[39m() only accepts keyword arguments.\u001b[39m\u001b[39m\"\u001b[39m \u001b[39m%\u001b[39m py_operation_name)\n\u001b[1;32m    <a href='file:///Users/sasanakongjareon/opt/anaconda3/envs/gumps/lib/python3.9/site-packages/botocore/client.py?line=413'>414</a>\u001b[0m \u001b[39m# The \"self\" in this scope is referring to the BaseClient.\u001b[39;00m\n\u001b[0;32m--> <a href='file:///Users/sasanakongjareon/opt/anaconda3/envs/gumps/lib/python3.9/site-packages/botocore/client.py?line=414'>415</a>\u001b[0m \u001b[39mreturn\u001b[39;00m \u001b[39mself\u001b[39;49m\u001b[39m.\u001b[39;49m_make_api_call(operation_name, kwargs)\n",
      "File \u001b[0;32m~/opt/anaconda3/envs/gumps/lib/python3.9/site-packages/botocore/client.py:745\u001b[0m, in \u001b[0;36mBaseClient._make_api_call\u001b[0;34m(self, operation_name, api_params)\u001b[0m\n\u001b[1;32m    <a href='file:///Users/sasanakongjareon/opt/anaconda3/envs/gumps/lib/python3.9/site-packages/botocore/client.py?line=742'>743</a>\u001b[0m     error_code \u001b[39m=\u001b[39m parsed_response\u001b[39m.\u001b[39mget(\u001b[39m\"\u001b[39m\u001b[39mError\u001b[39m\u001b[39m\"\u001b[39m, {})\u001b[39m.\u001b[39mget(\u001b[39m\"\u001b[39m\u001b[39mCode\u001b[39m\u001b[39m\"\u001b[39m)\n\u001b[1;32m    <a href='file:///Users/sasanakongjareon/opt/anaconda3/envs/gumps/lib/python3.9/site-packages/botocore/client.py?line=743'>744</a>\u001b[0m     error_class \u001b[39m=\u001b[39m \u001b[39mself\u001b[39m\u001b[39m.\u001b[39mexceptions\u001b[39m.\u001b[39mfrom_code(error_code)\n\u001b[0;32m--> <a href='file:///Users/sasanakongjareon/opt/anaconda3/envs/gumps/lib/python3.9/site-packages/botocore/client.py?line=744'>745</a>\u001b[0m     \u001b[39mraise\u001b[39;00m error_class(parsed_response, operation_name)\n\u001b[1;32m    <a href='file:///Users/sasanakongjareon/opt/anaconda3/envs/gumps/lib/python3.9/site-packages/botocore/client.py?line=745'>746</a>\u001b[0m \u001b[39melse\u001b[39;00m:\n\u001b[1;32m    <a href='file:///Users/sasanakongjareon/opt/anaconda3/envs/gumps/lib/python3.9/site-packages/botocore/client.py?line=746'>747</a>\u001b[0m     \u001b[39mreturn\u001b[39;00m parsed_response\n",
      "\u001b[0;31mResourceNotFoundException\u001b[0m: An error occurred (ResourceNotFoundException) when calling the PutItem operation: Requested resource not found"
     ]
    }
   ],
   "source": [
    "\n",
    "event_str = event['Records'][0]['body']\n",
    "stud_obj = json.loads(event_str)\n",
    "stud_obj = json.loads(stud_obj['Message'])\n",
    "try:\n",
    "    s3_object = stud_obj['Records'][0]['s3']['object']\n",
    "except:\n",
    "    pass\n",
    "\n",
    "segments = s3_object['key'].lstrip('processed/').split('.')[0].split('_')\n",
    "skus = segments[0]\n",
    "catalog = segments[1]\n",
    "types = segments[2]\n",
    "original_filename = s3_object['key'].lstrip('processed/')\n",
    "\n",
    "client = boto3.resource('dynamodb')\n",
    "\n",
    "image_index = client.Table('GumpsImagesIndex')\n",
    "\n",
    "image_index.put_item(Item= {'unique_index': 1,'sku':  skus, 'catalog':catalog, 'original_filename':original_filename})"
   ]
  },
  {
   "cell_type": "code",
   "execution_count": 64,
   "metadata": {},
   "outputs": [],
   "source": [
    "import uuid\n"
   ]
  },
  {
   "cell_type": "code",
   "execution_count": 68,
   "metadata": {},
   "outputs": [
    {
     "data": {
      "text/plain": [
       "'23b61f01-7be6-45f5-9ac7-dede97415984'"
      ]
     },
     "execution_count": 68,
     "metadata": {},
     "output_type": "execute_result"
    }
   ],
   "source": [
    "str(uuid.uuid4())"
   ]
  },
  {
   "cell_type": "code",
   "execution_count": 71,
   "metadata": {},
   "outputs": [
    {
     "data": {
      "text/plain": [
       "UUID('6fa459ea-ee8a-3ca4-894e-db77e160355e')"
      ]
     },
     "execution_count": 71,
     "metadata": {},
     "output_type": "execute_result"
    }
   ],
   "source": [
    "uuid.uuid3(uuid.NAMESPACE_DNS, 'python.org')"
   ]
  },
  {
   "cell_type": "code",
   "execution_count": 72,
   "metadata": {},
   "outputs": [
    {
     "data": {
      "text/plain": [
       "UUID('6ba7b810-9dad-11d1-80b4-00c04fd430c8')"
      ]
     },
     "execution_count": 72,
     "metadata": {},
     "output_type": "execute_result"
    }
   ],
   "source": [
    "uuid.NAMESPACE_DNS"
   ]
  },
  {
   "cell_type": "code",
   "execution_count": 73,
   "metadata": {},
   "outputs": [],
   "source": [
    "def calculate_s3_etag(file_path, chunk_size=8 * 1024 * 1024):\n",
    "    md5s = []\n",
    "\n",
    "    with open(file_path, 'rb') as fp:\n",
    "        while True:\n",
    "            data = fp.read(chunk_size)\n",
    "            if not data:\n",
    "                break\n",
    "            md5s.append(hashlib.md5(data))\n",
    "\n",
    "    if len(md5s) < 1:\n",
    "        return '\"{}\"'.format(hashlib.md5().hexdigest())\n",
    "\n",
    "    if len(md5s) == 1:\n",
    "        return '\"{}\"'.format(md5s[0].hexdigest())\n",
    "\n",
    "    digests = b''.join(m.digest() for m in md5s)\n",
    "    digests_md5 = hashlib.md5(digests)\n",
    "    return '\"{}-{}\"'.format(digests_md5.hexdigest(), len(md5s))"
   ]
  },
  {
   "cell_type": "code",
   "execution_count": 2,
   "metadata": {},
   "outputs": [
    {
     "data": {
      "text/plain": [
       "UUID('17e64183-91c9-37da-b18a-dbd03e10db7e')"
      ]
     },
     "execution_count": 2,
     "metadata": {},
     "output_type": "execute_result"
    }
   ],
   "source": [
    "import hashlib\n",
    "import uuid\n",
    "def calculate_s3_etag(file_path, chunk_size=8 * 1024 * 1024):\n",
    "    md5s = []\n",
    "\n",
    "    with open(file_path, 'rb') as fp:\n",
    "        while True:\n",
    "            data = fp.read(chunk_size)\n",
    "            if not data:\n",
    "                break\n",
    "            md5s.append(hashlib.md5(data))\n",
    "\n",
    "    if len(md5s) < 1:\n",
    "        return '\"{}\"'.format(hashlib.md5().hexdigest())\n",
    "\n",
    "    if len(md5s) == 1:\n",
    "        return '\"{}\"'.format(md5s[0].hexdigest())\n",
    "\n",
    "    digests = b''.join(m.digest() for m in md5s)\n",
    "    digests_md5 = hashlib.md5(digests)\n",
    "    return '\"{}-{}\"'.format(digests_md5.hexdigest(), len(md5s))\n",
    "test_path = 'animal.jpg'\n",
    "uuid.uuid3(uuid.NAMESPACE_DNS, calculate_s3_etag(test_path))"
   ]
  },
  {
   "cell_type": "code",
   "execution_count": 4,
   "metadata": {},
   "outputs": [
    {
     "data": {
      "text/plain": [
       "'\"389d7c4adab465ae650605e9ce0ebd04\"'"
      ]
     },
     "execution_count": 4,
     "metadata": {},
     "output_type": "execute_result"
    }
   ],
   "source": [
    "import hashlib\n",
    "calculate_s3_etag('monk3_animal_chimp.jpeg')"
   ]
  },
  {
   "cell_type": "code",
   "execution_count": 84,
   "metadata": {},
   "outputs": [
    {
     "data": {
      "text/plain": [
       "UUID('6f4102ca-7749-39d0-8dff-9814be1c7142')"
      ]
     },
     "execution_count": 84,
     "metadata": {},
     "output_type": "execute_result"
    }
   ],
   "source": [
    "uuid.uuid3(uuid.NAMESPACE_DNS, etag2)\n",
    " "
   ]
  },
  {
   "cell_type": "code",
   "execution_count": 10,
   "metadata": {},
   "outputs": [],
   "source": [
    "bucket = 'gumpsimageorc-resizeimagefornss3-ni7yfejlpxbv'\n",
    "image_key = 'processed/monk3_animal_chimp.jpg'\n",
    "s3_client = boto3.client('s3')\n",
    "s3_response_object = s3_client.get_object(Bucket=bucket, Key=image_key)"
   ]
  },
  {
   "cell_type": "code",
   "execution_count": 48,
   "metadata": {},
   "outputs": [],
   "source": [
    "event_str = event['Records'][0]['body']\n",
    "stud_obj = json.loads(event_str)\n",
    "stud_obj = json.loads(stud_obj['Message'])\n",
    "s3_object = stud_obj['Records'][0]['s3']['object']\n",
    "s3_obj_key = stud_obj['Records'][0]['s3']['object']['key']\n",
    "s3_bucket = stud_obj['Records'][0]['s3']['bucket']['name']\n",
    "etag = stud_obj['Records'][0]['s3']['object']['eTag']\n",
    "unique_id = str(uuid.uuid3(uuid.NAMESPACE_DNS, etag))"
   ]
  },
  {
   "cell_type": "code",
   "execution_count": 47,
   "metadata": {},
   "outputs": [
    {
     "data": {
      "text/plain": [
       "{'key': 'processed/monk3_animal_chimp.jpg',\n",
       " 'size': 61763,\n",
       " 'eTag': '389d7c4adab465ae650605e9ce0ebd04',\n",
       " 'sequencer': '0062CC91FBE65C0E2E'}"
      ]
     },
     "execution_count": 47,
     "metadata": {},
     "output_type": "execute_result"
    }
   ],
   "source": [
    "s3_object"
   ]
  },
  {
   "cell_type": "code",
   "execution_count": 50,
   "metadata": {},
   "outputs": [
    {
     "data": {
      "text/plain": [
       "{'ResponseMetadata': {'RequestId': 'Z541SQX10BFWP0GB',\n",
       "  'HostId': '5jLG3A51C1v9nI3PlY5MWlX2NaWXCKxzSl6mZX8Iwj5O92Sf9TQ0KyRk4g4D7Ilr4IvvUi1b5Ns=',\n",
       "  'HTTPStatusCode': 200,\n",
       "  'HTTPHeaders': {'x-amz-id-2': '5jLG3A51C1v9nI3PlY5MWlX2NaWXCKxzSl6mZX8Iwj5O92Sf9TQ0KyRk4g4D7Ilr4IvvUi1b5Ns=',\n",
       "   'x-amz-request-id': 'Z541SQX10BFWP0GB',\n",
       "   'date': 'Tue, 12 Jul 2022 20:12:47 GMT',\n",
       "   'last-modified': 'Mon, 11 Jul 2022 21:11:24 GMT',\n",
       "   'etag': '\"389d7c4adab465ae650605e9ce0ebd04\"',\n",
       "   'accept-ranges': 'bytes',\n",
       "   'content-type': 'binary/octet-stream',\n",
       "   'server': 'AmazonS3',\n",
       "   'content-length': '61763'},\n",
       "  'RetryAttempts': 0},\n",
       " 'AcceptRanges': 'bytes',\n",
       " 'LastModified': datetime.datetime(2022, 7, 11, 21, 11, 24, tzinfo=tzutc()),\n",
       " 'ContentLength': 61763,\n",
       " 'ETag': '\"389d7c4adab465ae650605e9ce0ebd04\"',\n",
       " 'ContentType': 'binary/octet-stream',\n",
       " 'Metadata': {},\n",
       " 'Body': <botocore.response.StreamingBody at 0x7f9149354790>}"
      ]
     },
     "execution_count": 50,
     "metadata": {},
     "output_type": "execute_result"
    }
   ],
   "source": [
    "s3_response_object"
   ]
  },
  {
   "cell_type": "code",
   "execution_count": 49,
   "metadata": {},
   "outputs": [],
   "source": [
    "s3_response_object = s3_client.get_object(Bucket=s3_bucket, Key=s3_obj_key)\n"
   ]
  },
  {
   "cell_type": "code",
   "execution_count": 38,
   "metadata": {},
   "outputs": [
    {
     "data": {
      "text/plain": [
       "'d51979ee-dfff-3f89-9250-3ab450e393ab'"
      ]
     },
     "execution_count": 38,
     "metadata": {},
     "output_type": "execute_result"
    }
   ],
   "source": [
    "str(uuid.uuid3(uuid.NAMESPACE_DNS, etag))"
   ]
  },
  {
   "cell_type": "code",
   "execution_count": 33,
   "metadata": {},
   "outputs": [
    {
     "data": {
      "text/plain": [
       "UUID('d51979ee-dfff-3f89-9250-3ab450e393ab')"
      ]
     },
     "execution_count": 33,
     "metadata": {},
     "output_type": "execute_result"
    }
   ],
   "source": [
    "uuid.uuid3(uuid.NAMESPACE_DNS, '\"389d7c4adab465ae650605e9ce0ebd04\"'.replace('\"',''))"
   ]
  },
  {
   "cell_type": "code",
   "execution_count": 31,
   "metadata": {},
   "outputs": [
    {
     "data": {
      "text/plain": [
       "'389d7c4adab465ae650605e9ce0ebd04'"
      ]
     },
     "execution_count": 31,
     "metadata": {},
     "output_type": "execute_result"
    }
   ],
   "source": []
  },
  {
   "cell_type": "code",
   "execution_count": null,
   "metadata": {},
   "outputs": [],
   "source": [
    "import os\n",
    "import boto3\n",
    "import json\n",
    "from datetime import datetime\n",
    "\n",
    "from_email = \"email@my_verified_domain.com\"\n",
    "config_set_name = os.environ[\"SES_CONFIG_SET_NAME\"]\n",
    "client = boto3.client('ses')\n",
    "\n",
    "\n",
    "def email_handler(event, context):\n",
    "\n",
    "    body_html = f\"\"\"<html>\n",
    "        <head></head>\n",
    "        <body>\n",
    "          <h2>Email from AWS SES!</h2>\n",
    "          <br/>\n",
    "          <p>This was sent from a Python Lambda using boto3</p> \n",
    "        </body>\n",
    "        </html>\n",
    "                    \"\"\"\n",
    "\n",
    "    email_message = {\n",
    "        'Body': {\n",
    "            'Html': {\n",
    "                'Charset': 'utf-8',\n",
    "                'Data': body_html,\n",
    "            },\n",
    "        },\n",
    "        'Subject': {\n",
    "            'Charset': 'utf-8',\n",
    "            'Data': \"Hello from AWS SES\",\n",
    "        },\n",
    "    }\n",
    "\n",
    "    ses_response = client.send_email(\n",
    "        Destination={\n",
    "            'ToAddresses': ['to@some_email.com'],\n",
    "        },\n",
    "        Message=email_message,\n",
    "        Source=from_email,\n",
    "        ConfigurationSetName=config_set_name,\n",
    "    )\n",
    "\n",
    "    print(f\"ses response id received: {response['MessageId']}.\")"
   ]
  }
 ],
 "metadata": {
  "interpreter": {
   "hash": "45e3f66bb17e8a467f9c80c39102b473ee6484e8906086d365da68336b04fc17"
  },
  "kernelspec": {
   "display_name": "Python 3.9.12 ('gumps')",
   "language": "python",
   "name": "python3"
  },
  "language_info": {
   "codemirror_mode": {
    "name": "ipython",
    "version": 3
   },
   "file_extension": ".py",
   "mimetype": "text/x-python",
   "name": "python",
   "nbconvert_exporter": "python",
   "pygments_lexer": "ipython3",
   "version": "3.9.12"
  },
  "orig_nbformat": 4
 },
 "nbformat": 4,
 "nbformat_minor": 2
}
